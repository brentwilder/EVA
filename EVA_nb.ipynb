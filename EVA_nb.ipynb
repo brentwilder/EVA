{
 "cells": [
  {
   "cell_type": "markdown",
   "metadata": {},
   "source": [
    "# Extreme Value Analysis for San Diego daily rainfall\n",
    "# Wilder & Lamb\n",
    "# September 2020"
   ]
  },
  {
   "cell_type": "code",
   "execution_count": null,
   "metadata": {},
   "outputs": [],
   "source": [
    "# install R-packages for script\n",
    "rm(list=ls())\n",
    "install.packages(\"extRemes\")\n",
    "install.packages(\"in2extRemes\")\n",
    "library(extRemes)\n",
    "library(ggplot2)\n",
    "library(dplyr)\n",
    "install.packages(\"TSstudio\")\n",
    "library(TSstudio)\n",
    "install.packages(c(\"leaflet\", \"sp\"))\n",
    "library(sp)\n",
    "library(leaflet)"
   ]
  },
  {
   "cell_type": "code",
   "execution_count": null,
   "metadata": {},
   "outputs": [],
   "source": [
    "# Plot rain gauge location\n",
    "df <- data.frame(longitude = runif(1, -117.16667, -117.16667), \n",
    "                 latitude = runif(1, 32.73333, 32.73333))\n",
    "\n",
    "coordinates(df) <- ~longitude+latitude\n",
    "leaflet(df) %>% addMarkers() %>% addTiles()"
   ]
  },
  {
   "cell_type": "code",
   "execution_count": null,
   "metadata": {
    "scrolled": true
   },
   "outputs": [],
   "source": [
    "# Import the data and look at the first six rows\n",
    "daily <- read.csv(file = 'DailyData.csv', header = TRUE) \n",
    "print(tail(daily))"
   ]
  },
  {
   "cell_type": "code",
   "execution_count": null,
   "metadata": {
    "scrolled": true
   },
   "outputs": [],
   "source": [
    "# We can also plot this as a timeseries\n",
    "datez <- seq(from = as.Date(\"1966-10-01\"), to = as.Date(\"2019-09-30\"), by = 1)\n",
    "daily$DATE <- as.POSIXct(daily$DATE,format = \"%m/%d/%y\")\n",
    "#plot the data\n",
    "pltdaily <- ggplot(data=daily,  # the data frame\n",
    "      aes(datez, PrecipMM)) +   # the variables of interest\n",
    "      geom_bar(stat=\"identity\") +   # create a bar graph\n",
    "      xlab(\"Date\") + ylab(\"Precipitation (mm)\") +  # label the x & y axes\n",
    "      ggtitle(\"Daily Precipitation for San Diego\")  # add a title\n",
    "\n",
    "print(pltdaily)"
   ]
  },
  {
   "cell_type": "code",
   "execution_count": null,
   "metadata": {},
   "outputs": [],
   "source": [
    "# histogram of the daily rainfall appear skewed to the left\n",
    "RainDailyMM<- daily$PrecipMM\n",
    "hist(RainDailyMM)"
   ]
  },
  {
   "cell_type": "markdown",
   "metadata": {},
   "source": [
    "### For our analysis, we are interested in finding the return intervals for a 24-hour storm event. It is possible that a storm event during the 2017 Water Year exceeded the 50-year return interval."
   ]
  },
  {
   "cell_type": "code",
   "execution_count": null,
   "metadata": {
    "scrolled": true
   },
   "outputs": [],
   "source": [
    "# So, using MATLAB we found the peak 24-hour storm event for each WY from 1967-2019\n",
    "max24hr <- read.csv(file = 'Max24hrStorm.csv', header = TRUE)\n",
    "print(tail(max24hr))"
   ]
  },
  {
   "cell_type": "markdown",
   "metadata": {},
   "source": [
    "### In 2017, there was a 24-hour storm event that recorded 59.4 mm. Let's keep this number in mind for later."
   ]
  },
  {
   "cell_type": "code",
   "execution_count": null,
   "metadata": {},
   "outputs": [],
   "source": [
    "# histogram of the annual maximum appear normally distributed\n",
    "Rain24hrmaxMM <- max24hr$PrecipMM\n",
    "hist(Rain24hrmaxMM)"
   ]
  },
  {
   "cell_type": "code",
   "execution_count": null,
   "metadata": {},
   "outputs": [],
   "source": [
    "# To conduct an extreme value analysis, we can do this quite easily in R by using the GEV fit in extRemes library\n",
    "fit = fevd(x=PrecipMM,data=max24hr, location.fun= ~1, scale.fun=~1,\n",
    "            shape.fun=~1, use.phi=FALSE, type=\"GEV\",units=\"mm\",na.action=na.fail)"
   ]
  },
  {
   "cell_type": "code",
   "execution_count": null,
   "metadata": {
    "scrolled": true
   },
   "outputs": [],
   "source": [
    "# Let's now plot our results\n",
    "plot(fit)"
   ]
  },
  {
   "cell_type": "code",
   "execution_count": null,
   "metadata": {},
   "outputs": [],
   "source": [
    "# For our study we are interested in understanding what the 2-year, 10-year, 25-year,50-year, and 100-year storm events.\n",
    "# Data are assumed to be  stationary.\n",
    "print(return.level(fit,return.period = c(2,10, 25, 50,100)))"
   ]
  },
  {
   "cell_type": "markdown",
   "metadata": {},
   "source": [
    "### In summary, it would seem that the max 24-hour storm event under investigation (WY 2017 = 59.4mm) did not exceeded the 50-year, 24-hour storm event according to the Generalized extreme value distribution at the San Diego Airport rain gauge. \n",
    "\n",
    "### It is worth noting that the rain gauge is approximately 5-miles west of the investigation site, and therefore, does introduce spatial and temporal variability. Also, this statistical method does not include the impact of climate change and treats the dataset as being stationary."
   ]
  },
  {
   "cell_type": "markdown",
   "metadata": {},
   "source": [
    "### References:\n",
    "### https://cran.r-project.org/web/packages/extRemes/extRemes.pdf\n",
    "### https://www.sandiego.gov/sites/default/files/drainage_design_manual_jan2017.pdf\n",
    "### https://science.sciencemag.org/content/319/5863/573"
   ]
  },
  {
   "cell_type": "code",
   "execution_count": null,
   "metadata": {},
   "outputs": [],
   "source": []
  }
 ],
 "metadata": {
  "kernelspec": {
   "display_name": "R",
   "language": "R",
   "name": "ir"
  },
  "language_info": {
   "codemirror_mode": "r",
   "file_extension": ".r",
   "mimetype": "text/x-r-source",
   "name": "R",
   "pygments_lexer": "r",
   "version": "3.6.1"
  }
 },
 "nbformat": 4,
 "nbformat_minor": 4
}
